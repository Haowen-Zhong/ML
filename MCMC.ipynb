{
 "cells": [
  {
   "cell_type": "markdown",
   "metadata": {},
   "source": [
    "# MCMC\n",
    "## 基本思路：\n",
    "在随机变量$x$的状态空间$\\mathcal{S}$上定义一个**Markov chain**\n",
    "$$X=\\{X_0,X_1,X_2,...X_t,...\\}$$\n",
    "使其平稳分布就是我们要抽样的目标分布$p(x)$。然后基于该**Markov chain**进行随机游走产生对应的样本序列家逆行数值计算。当时间足够长时，抽样所得到的分布就会趋近于平稳分布，基于该**Markov chain**的抽样结果就是目标概率分布的抽样结果。对抽样结果的函数均值计算就是目标数学期望值。"
   ]
  },
  {
   "cell_type": "markdown",
   "metadata": {},
   "source": [
    "## 具体步骤\n",
    "* 在随机变量$x$的状态空间$\\mathcal{S}$上定义一个满足遍历定理的**Markov chain**，使其平稳分布为目标分布$p(x)$;\n",
    "* 从状态空间中某一点$\\vec{x_0}$出发，在构造的**Markov chain**上进行随机游走，可以得到样本序列$$x_0,x_1,...,x_t$$\n",
    "* 根据**Markov chain**的遍历定理，确定正整数$m,n$,可以得到样本集合\n",
    "$$\\{x_{m+1},x_{m+2},...,x_n\\}$$\n",
    "最后可以得到函数$f(x)$的遍历均值：\n",
    "$$\\hat{E}(f)=\\frac{1}{n-m}\\sum_{i=m+1}^nf(x_i)$$\n",
    "\n",
    "**关键问题：如何构造满足条件的Markov chain？常用的方法有Metropolis-Hasting算法和Gibbs抽样。**"
   ]
  },
  {
   "cell_type": "markdown",
   "metadata": {},
   "source": [
    "## Metropolis-Hasting Algorithm ——M-H采样"
   ]
  },
  {
   "cell_type": "markdown",
   "metadata": {},
   "source": [
    "该算法由$\\textit{Metropolis}$提出由$\\textit{Hasting}$改进,假设目标抽样分布为$p(x)$，$M-H$算法采用的状态转移核为$p(x,x')$,则**Marcov cahin**定义为\n",
    "$$p(x,x')=q(x,x')\\alpha(x,x')$$\n",
    "其中$q(x,x'),\\alpha(x,x')$分别为建议分布和接受分布。建议分布也可以是另一个马尔可夫链的转移核，形式也可以多种多样。包括对称形式和独立抽样形式，假设建议分布是对称的:\n",
    "$$symmetry\\Longrightarrow q(x,x')=q(x',x)$$\n",
    "接受分布形式如下：\n",
    "$$\\alpha(x,x')=\\min\\Bigg\\{1,\\frac{p(x')q(x',x)}{p(x)q(x,x')}\\Bigg\\}$$\n",
    "具体游走过程：如果在$T=t-1$时刻出于状态$x$，$i.e. x_{t-1}=x$，那么先按照建议分布$q(x,x')$产生一个候选状态$x'$。然后按照接受分布$\\alpha(x,x')$抽样决定是否接受这个状态。也就是说以$\\alpha(x,x)'$的概率接受这个状态$x'$，以$1-\\alpha(x,x')$的概率拒绝$x'$。\n",
    "假设目标平稳分布是一个正态分布，则："
   ]
  },
  {
   "cell_type": "code",
   "execution_count": 6,
   "metadata": {},
   "outputs": [
    {
     "name": "stderr",
     "output_type": "stream",
     "text": [
      "/Users/zhonghaowen/anaconda3/lib/python3.7/site-packages/ipykernel_launcher.py:32: MatplotlibDeprecationWarning: \n",
      "The 'normed' kwarg was deprecated in Matplotlib 2.1 and will be removed in 3.1. Use 'density' instead.\n"
     ]
    },
    {
     "data": {
      "image/png": "[encoded data removed]",
      "text/plain": [
       "<Figure size 432x288 with 1 Axes>"
      ]
     },
     "metadata": {
      "needs_background": "light"
     },
     "output_type": "display_data"
    }
   ],
   "source": [
    "from scipy.stats import norm\n",
    "import random\n",
    "import matplotlib.pyplot as plt\n",
    "#Define the smooth distribution\n",
    "#Gaussian distribution mu = 3, sigma = 2\n",
    "def smooth_dist(theta):\n",
    "    y = norm.pdf(theta, loc=3, scale=2)\n",
    "    return y\n",
    "\n",
    "T = 10000\n",
    "pi = [0 for i in range(T)]\n",
    "sigma = 1\n",
    "#Inital value\n",
    "t = 0\n",
    "#Iteration\n",
    "while t < T-1:\n",
    "    t = t + 1\n",
    "    pi_star = norm.rvs(loc=pi[t-1],scale=sigma,size=1,random_state = None)\n",
    "    alpha = min(1,(smooth_dist(pi_star[0])/smooth_dist(pi[t-1])))\n",
    "    u = random.uniform(0,1)\n",
    "    if u<alpha:\n",
    "        pi[t] = pi_star[0]\n",
    "    else:\n",
    "        pi[t] = pi[t-1]\n",
    "        \n",
    "plt.scatter(pi,norm.pdf(pi,loc=3,scale = 2),label=\"Target Distribution\")\n",
    "num_bins = 100\n",
    "plt.hist(pi,\n",
    "        num_bins,\n",
    "        normed= 1,\n",
    "        facecolor = 'red',\n",
    "        alpha =0.6,\n",
    "        label=\"Samples Distribution\")\n",
    "plt.legend()\n",
    "plt.show()"
   ]
  },
  {
   "cell_type": "code",
   "execution_count": 32,
   "metadata": {},
   "outputs": [],
   "source": [
    "norm?"
   ]
  },
  {
   "cell_type": "code",
   "execution_count": null,
   "metadata": {},
   "outputs": [],
   "source": []
  }
 ],
 "metadata": {
  "kernelspec": {
   "display_name": "Python 3",
   "language": "python",
   "name": "python3"
  },
  "language_info": {
   "codemirror_mode": {
    "name": "ipython",
    "version": 3
   },
   "file_extension": ".py",
   "mimetype": "text/x-python",
   "name": "python",
   "nbconvert_exporter": "python",
   "pygments_lexer": "ipython3",
   "version": "3.7.3"
  }
 },
 "nbformat": 4,
 "nbformat_minor": 2
}
